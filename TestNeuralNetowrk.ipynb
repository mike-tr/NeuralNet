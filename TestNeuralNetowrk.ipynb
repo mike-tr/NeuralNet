{
 "metadata": {
  "language_info": {
   "codemirror_mode": {
    "name": "ipython",
    "version": 3
   },
   "file_extension": ".py",
   "mimetype": "text/x-python",
   "name": "python",
   "nbconvert_exporter": "python",
   "pygments_lexer": "ipython3",
   "version": "3.9.2"
  },
  "orig_nbformat": 2,
  "kernelspec": {
   "name": "python392jvsc74a57bd08217dc033d34892759def3f9a17aefbea3c1759daf97bdfe8e6670d9ed8b5d84",
   "display_name": "Python 3.9.2 64-bit ('NNenv': conda)"
  }
 },
 "nbformat": 4,
 "nbformat_minor": 2,
 "cells": [
  {
   "source": [
    "<center>\n",
    "<h1> Test my neural network class computation</h1>\n",
    "<h2> Part C&D </h2>\n",
    "<h3> By : Michael trushkin </h3>\n",
    "</center>\n",
    "\n",
    "\n",
    "## for an assignment i have implemented a neural network, and back propogation algorithm.\n",
    "* in this short notebook, iam testing if the neural network indeed working.\n"
   ],
   "cell_type": "markdown",
   "metadata": {}
  },
  {
   "cell_type": "code",
   "execution_count": 166,
   "metadata": {},
   "outputs": [],
   "source": [
    "import numpy as np\n",
    "import matplotlib.pyplot as plt\n",
    "import importlib\n",
    "import myGraphicFuncs\n",
    "import NeuralNet\n",
    "importlib.reload(myGraphicFuncs)\n",
    "importlib.reload(NeuralNet)\n",
    "from NeuralNet import NeuralNetwork\n",
    "np.set_printoptions(suppress=True)"
   ]
  },
  {
   "source": [
    "### initialize neural network with 3 inputs, 4 neurons in hidden layer, and 2 outputs.\n",
    "* print weights,\n",
    "* print biases"
   ],
   "cell_type": "markdown",
   "metadata": {}
  },
  {
   "cell_type": "code",
   "execution_count": 167,
   "metadata": {},
   "outputs": [
    {
     "output_type": "stream",
     "name": "stdout",
     "text": [
      "weights 3x4 :\n [[0.28066152 0.18695719 0.14694134 0.7147724 ]\n [0.66461753 0.25210609 0.75350868 0.4729776 ]\n [0.01735562 0.53093339 0.49151849 0.36204476]]\nweights 4x2 :\n [[0.97349594 0.14886551]\n [0.42805368 0.4879479 ]\n [0.7736002  0.20975695]\n [0.79411858 0.32604069]]\nbiases 4x1 :\n [[0.09907117]\n [0.89998453]\n [0.96217204]\n [0.9778831 ]]\nbiases 2x1 :\n [[0.21784695]\n [0.28799016]]\n"
     ]
    }
   ],
   "source": [
    "nt = NeuralNetwork([3, 4, 2])\n",
    "print(\"weights 3x4 :\\n\",nt.weights[0])\n",
    "print(\"weights 4x2 :\\n\",nt.weights[1])\n",
    "print(\"biases 4x1 :\\n\",nt.biases[0])\n",
    "print(\"biases 2x1 :\\n\",nt.biases[1])"
   ]
  },
  {
   "source": [
    "## Test neural netowrk with 1 input"
   ],
   "cell_type": "markdown",
   "metadata": {}
  },
  {
   "cell_type": "code",
   "execution_count": 168,
   "metadata": {
    "tags": []
   },
   "outputs": [
    {
     "output_type": "stream",
     "name": "stdout",
     "text": [
      "prediction initial :\n",
      " [[0.90142696 0.79378017]]\n",
      "iter 99 , error : 41.96390902866582 \n",
      " [[0.79686037 0.28961779]] actual :\n",
      " [0.5 0. ]\n",
      "iter 99 , error : 9.521260039492798 \n",
      " [[0.6314292  0.16475657]] actual :\n",
      " [0.5 0. ]\n",
      "iter 99 , error : 2.68275429949481 \n",
      " [[0.54014371 0.12192983]] actual :\n",
      " [0.5 0. ]\n",
      "iter 99 , error : 1.2735269260914122 \n",
      " [[0.51130405 0.09982257]] actual :\n",
      " [0.5 0. ]\n",
      "iter 99 , error : 0.8625618993156123 \n",
      " [[0.50306212 0.08605367]] actual :\n",
      " [0.5 0. ]\n"
     ]
    }
   ],
   "source": [
    "data = np.array([0,1,0, 0.5, 0]) # 3 inputs 2 outputs\n",
    "nt = NeuralNetwork([3, 3, 2])\n",
    "x = data[:-2]\n",
    "y = data[-2:]\n",
    "print(\"prediction initial :\\n\", nt.predict(x))\n",
    "\n",
    "for i in range(5):\n",
    "    err = 0\n",
    "    for j in range(100):\n",
    "        err += nt.train(x, y)\n",
    "    print(\"iter\", j, \", error :\", err ,\"\\n\",nt.predict(x), \"actual :\\n\", y)"
   ]
  },
  {
   "source": [
    "### we can clearly see the network is able to \"learn\" this simply data example, and we can even pass 1d arrays of inputs"
   ],
   "cell_type": "markdown",
   "metadata": {}
  },
  {
   "source": [
    "## Create few data examples, and train on all of them."
   ],
   "cell_type": "markdown",
   "metadata": {}
  },
  {
   "cell_type": "code",
   "execution_count": 169,
   "metadata": {},
   "outputs": [
    {
     "output_type": "stream",
     "name": "stdout",
     "text": [
      "[3, 7, 2]\n[[1. 1. 1.]\n [0. 0. 0.]\n [0. 0. 1.]\n [1. 1. 0.]\n [1. 0. 1.]]\n[[0.  0. ]\n [1.  1. ]\n [1.  0. ]\n [0.  1. ]\n [0.5 0. ]]\n"
     ]
    }
   ],
   "source": [
    "nt = NeuralNetwork([3, 7, 2])\n",
    "print(nt.layers)\n",
    "data = np.array([[1,1,1, 0,0],\n",
    "                 [0,0,0, 1,1],\n",
    "                 [0,0,1, 1,0],\n",
    "                 [1,1,0, 0,1],\n",
    "                 [1,0,1, 0.5,0]])\n",
    "x = data[:,:-2]\n",
    "y = data[:,-2:]\n",
    "print(x) # the X of the input\n",
    "print(y) # the Y of the input"
   ]
  },
  {
   "cell_type": "code",
   "execution_count": 170,
   "metadata": {},
   "outputs": [
    {
     "output_type": "execute_result",
     "data": {
      "text/plain": [
       "array([[0.97618193, 0.99025907],\n",
       "       [0.94550473, 0.97705121],\n",
       "       [0.95999834, 0.98342018],\n",
       "       [0.97179757, 0.98843741],\n",
       "       [0.97037406, 0.98757549]])"
      ]
     },
     "metadata": {},
     "execution_count": 170
    }
   ],
   "source": [
    "nt.predict(x)"
   ]
  },
  {
   "cell_type": "code",
   "execution_count": 171,
   "metadata": {},
   "outputs": [
    {
     "output_type": "execute_result",
     "data": {
      "text/plain": [
       "5.04683728714332"
      ]
     },
     "metadata": {},
     "execution_count": 171
    }
   ],
   "source": [
    "nt.train(x, y)"
   ]
  },
  {
   "cell_type": "code",
   "execution_count": 172,
   "metadata": {},
   "outputs": [
    {
     "output_type": "execute_result",
     "data": {
      "text/plain": [
       "array([[0.97539866, 0.9900647 ],\n",
       "       [0.94421649, 0.97671814],\n",
       "       [0.95889857, 0.98314032],\n",
       "       [0.97092383, 0.98821975],\n",
       "       [0.96946648, 0.9873429 ]])"
      ]
     },
     "metadata": {},
     "execution_count": 172
    }
   ],
   "source": [
    "nt.predict(x)"
   ]
  },
  {
   "cell_type": "code",
   "execution_count": 175,
   "metadata": {
    "tags": []
   },
   "outputs": [
    {
     "output_type": "stream",
     "name": "stdout",
     "text": [
      "initial :\n",
      " [[0.94973707 0.88132882]\n",
      " [0.91211979 0.81302445]\n",
      " [0.92998215 0.84734389]\n",
      " [0.9411416  0.86245075]\n",
      " [0.94453568 0.87382355]]\n",
      "iter 0 , error : 718.0713109991555 \n",
      " [[0.44949063 0.31383304]\n",
      " [0.50463566 0.57630913]\n",
      " [0.49452306 0.30108884]\n",
      " [0.44121929 0.57458893]\n",
      " [0.46065636 0.27207947]] actual :\n",
      " [[0.  0. ]\n",
      " [1.  1. ]\n",
      " [1.  0. ]\n",
      " [0.  1. ]\n",
      " [0.5 0. ]]\n",
      "iter 1 , error : 400.3214172437168 \n",
      " [[0.46608342 0.19865914]\n",
      " [0.48226232 0.72489062]\n",
      " [0.61407336 0.12920754]\n",
      " [0.30911953 0.88552031]\n",
      " [0.52905647 0.11934067]] actual :\n",
      " [[0.  0. ]\n",
      " [1.  1. ]\n",
      " [1.  0. ]\n",
      " [0.  1. ]\n",
      " [0.5 0. ]]\n",
      "iter 2 , error : 221.12603229442897 \n",
      " [[0.24978038 0.20458426]\n",
      " [0.6414909  0.76248694]\n",
      " [0.81750018 0.08626526]\n",
      " [0.20810875 0.91421344]\n",
      " [0.55193796 0.09323292]] actual :\n",
      " [[0.  0. ]\n",
      " [1.  1. ]\n",
      " [1.  0. ]\n",
      " [0.  1. ]\n",
      " [0.5 0. ]]\n",
      "iter 3 , error : 97.3906001432143 \n",
      " [[0.14591721 0.16296709]\n",
      " [0.75568553 0.81280231]\n",
      " [0.90341756 0.07496107]\n",
      " [0.17055436 0.91318212]\n",
      " [0.51493875 0.08383854]] actual :\n",
      " [[0.  0. ]\n",
      " [1.  1. ]\n",
      " [1.  0. ]\n",
      " [0.  1. ]\n",
      " [0.5 0. ]]\n",
      "iter 4 , error : 56.78415499480546 \n",
      " [[0.10673665 0.13357915]\n",
      " [0.80534695 0.84612641]\n",
      " [0.93614923 0.06733212]\n",
      " [0.14639499 0.9230372 ]\n",
      " [0.50490705 0.07236441]] actual :\n",
      " [[0.  0. ]\n",
      " [1.  1. ]\n",
      " [1.  0. ]\n",
      " [0.  1. ]\n",
      " [0.5 0. ]]\n",
      "iter 5 , error : 39.548040153723115 \n",
      " [[0.08521923 0.11414654]\n",
      " [0.83313095 0.86746981]\n",
      " [0.95227426 0.06143185]\n",
      " [0.1296791  0.9320441 ]\n",
      " [0.50257986 0.06348868]] actual :\n",
      " [[0.  0. ]\n",
      " [1.  1. ]\n",
      " [1.  0. ]\n",
      " [0.  1. ]\n",
      " [0.5 0. ]]\n",
      "iter 6 , error : 30.143281603982487 \n",
      " [[0.07148455 0.10049681]\n",
      " [0.85164636 0.88230792]\n",
      " [0.96176553 0.05679405]\n",
      " [0.11754017 0.938983  ]\n",
      " [0.50171586 0.05691957]] actual :\n",
      " [[0.  0. ]\n",
      " [1.  1. ]\n",
      " [1.  0. ]\n",
      " [0.  1. ]\n",
      " [0.5 0. ]]\n",
      "iter 7 , error : 24.261458851155616 \n",
      " [[0.06193056 0.09037905]\n",
      " [0.86517234 0.89331098]\n",
      " [0.96801351 0.05304818]\n",
      " [0.10824785 0.94434049]\n",
      " [0.50127585 0.05190863]] actual :\n",
      " [[0.  0. ]\n",
      " [1.  1. ]\n",
      " [1.  0. ]\n",
      " [0.  1. ]\n",
      " [0.5 0. ]]\n",
      "iter 8 , error : 20.25209838162975 \n",
      " [[0.05488201 0.0825573 ]\n",
      " [0.87562096 0.90185467]\n",
      " [0.97244025 0.04994516]\n",
      " [0.10084015 0.94858684]\n",
      " [0.50101051 0.04795448]] actual :\n",
      " [[0.  0. ]\n",
      " [1.  1. ]\n",
      " [1.  0. ]\n",
      " [0.  1. ]\n",
      " [0.5 0. ]]\n",
      "iter 9 , error : 17.351583209328883 \n",
      " [[0.0494543  0.07630913]\n",
      " [0.88400732 0.90871821]\n",
      " [0.97574309 0.04732061]\n",
      " [0.09475449 0.95204228]\n",
      " [0.50083351 0.04474367]] actual :\n",
      " [[0.  0. ]\n",
      " [1.  1. ]\n",
      " [1.  0. ]\n",
      " [0.  1. ]\n",
      " [0.5 0. ]]\n"
     ]
    }
   ],
   "source": [
    "nt = NeuralNetwork([3, 4, 2])\n",
    "print(\"initial :\\n\", nt.predict(x))\n",
    "for j in range(10):\n",
    "    err = 0\n",
    "    for i in range(350):\n",
    "        err += nt.train(x, y)\n",
    "    print(\"iter\", j, \", error :\", err ,\"\\n\",nt.predict(x), \"actual :\\n\", y)"
   ]
  },
  {
   "source": [
    "## Network learns quite nicely!\n",
    "\n",
    "## try bigger networks, with more layers"
   ],
   "cell_type": "markdown",
   "metadata": {}
  },
  {
   "cell_type": "code",
   "execution_count": 174,
   "metadata": {},
   "outputs": [
    {
     "output_type": "stream",
     "name": "stdout",
     "text": [
      "initial :\n",
      " [[0.92968717 0.93178467]\n",
      " [0.92009697 0.92295561]\n",
      " [0.92642525 0.92863629]\n",
      " [0.92613716 0.92863423]\n",
      " [0.92807378 0.93034139]]\n",
      "iter 0 , error : 2193.6444938801296 \n",
      " [[0.48689215 0.37663099]\n",
      " [0.50992802 0.4312748 ]\n",
      " [0.49380694 0.38629581]\n",
      " [0.49716804 0.41301014]\n",
      " [0.48961628 0.38087267]] actual :\n",
      " [[0.  0. ]\n",
      " [1.  1. ]\n",
      " [1.  0. ]\n",
      " [0.  1. ]\n",
      " [0.5 0. ]]\n",
      "iter 1 , error : 1655.423864723586 \n",
      " [[0.52003    0.2952479 ]\n",
      " [0.50740313 0.54535281]\n",
      " [0.65015383 0.15039178]\n",
      " [0.25323313 0.92944331]\n",
      " [0.58770186 0.20331241]] actual :\n",
      " [[0.  0. ]\n",
      " [1.  1. ]\n",
      " [1.  0. ]\n",
      " [0.  1. ]\n",
      " [0.5 0. ]]\n",
      "iter 2 , error : 795.0908862447266 \n",
      " [[0.37604735 0.21725684]\n",
      " [0.51687808 0.76713119]\n",
      " [0.83758789 0.02514083]\n",
      " [0.20902385 0.98869172]\n",
      " [0.5697577  0.08354431]] actual :\n",
      " [[0.  0. ]\n",
      " [1.  1. ]\n",
      " [1.  0. ]\n",
      " [0.  1. ]\n",
      " [0.5 0. ]]\n",
      "iter 3 , error : 239.38078688107234 \n",
      " [[0.08585343 0.09487638]\n",
      " [0.88635331 0.91003561]\n",
      " [0.91640269 0.01048855]\n",
      " [0.09259238 0.97697318]\n",
      " [0.52219468 0.02365506]] actual :\n",
      " [[0.  0. ]\n",
      " [1.  1. ]\n",
      " [1.  0. ]\n",
      " [0.  1. ]\n",
      " [0.5 0. ]]\n",
      "iter 4 , error : 33.021410999063676 \n",
      " [[0.05562727 0.06887678]\n",
      " [0.9404733  0.94446494]\n",
      " [0.94852358 0.0090108 ]\n",
      " [0.05344421 0.96342271]\n",
      " [0.50535086 0.01898666]] actual :\n",
      " [[0.  0. ]\n",
      " [1.  1. ]\n",
      " [1.  0. ]\n",
      " [0.  1. ]\n",
      " [0.5 0. ]]\n",
      "iter 5 , error : 17.098547113183955 \n",
      " [[0.04411191 0.05573237]\n",
      " [0.95521386 0.95628841]\n",
      " [0.95982664 0.00783386]\n",
      " [0.04181801 0.96898644]\n",
      " [0.50254338 0.01577577]] actual :\n",
      " [[0.  0. ]\n",
      " [1.  1. ]\n",
      " [1.  0. ]\n",
      " [0.  1. ]\n",
      " [0.5 0. ]]\n",
      "iter 6 , error : 11.490689071968596 \n",
      " [[0.03708314 0.0476537 ]\n",
      " [0.96278947 0.96268107]\n",
      " [0.96627779 0.00705031]\n",
      " [0.0353393  0.97323725]\n",
      " [0.50156685 0.01366328]] actual :\n",
      " [[0.  0. ]\n",
      " [1.  1. ]\n",
      " [1.  0. ]\n",
      " [0.  1. ]\n",
      " [0.5 0. ]]\n",
      "iter 7 , error : 8.569336338076303 \n",
      " [[0.03229954 0.04213311]\n",
      " [0.9676074  0.96695314]\n",
      " [0.97056101 0.00650194]\n",
      " [0.03108337 0.97623917]\n",
      " [0.50110027 0.01218932]] actual :\n",
      " [[0.  0. ]\n",
      " [1.  1. ]\n",
      " [1.  0. ]\n",
      " [0.  1. ]\n",
      " [0.5 0. ]]\n",
      "iter 8 , error : 6.788147105661634 \n",
      " [[0.02881253 0.03807039]\n",
      " [0.97101125 0.97008877]\n",
      " [0.97364888 0.00609282]\n",
      " [0.0280292  0.97846514]\n",
      " [0.50083399 0.01109415]] actual :\n",
      " [[0.  0. ]\n",
      " [1.  1. ]\n",
      " [1.  0. ]\n",
      " [0.  1. ]\n",
      " [0.5 0. ]]\n",
      "iter 9 , error : 5.59489902500301 \n",
      " [[0.02614325 0.03492654]\n",
      " [0.97357544 0.97251962]\n",
      " [0.97599992 0.0057725 ]\n",
      " [0.02570708 0.98019014]\n",
      " [0.50066433 0.01024149]] actual :\n",
      " [[0.  0. ]\n",
      " [1.  1. ]\n",
      " [1.  0. ]\n",
      " [0.  1. ]\n",
      " [0.5 0. ]]\n"
     ]
    }
   ],
   "source": [
    "nt = NeuralNetwork([3, 4, 5, 2])\n",
    "print(\"initial :\\n\", nt.predict(x))\n",
    "for j in range(10):\n",
    "    err = 0\n",
    "    for i in range(1000):\n",
    "        err += nt.train(x, y)\n",
    "    print(\"iter\", j, \", error :\", err ,\"\\n\",nt.predict(x), \"actual :\\n\", y)"
   ]
  }
 ]
}